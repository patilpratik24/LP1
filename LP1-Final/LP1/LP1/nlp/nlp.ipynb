{
 "cells": [
  {
   "cell_type": "code",
   "execution_count": 5,
   "metadata": {},
   "outputs": [],
   "source": [
    "import nltk"
   ]
  },
  {
   "cell_type": "code",
   "execution_count": 6,
   "metadata": {},
   "outputs": [],
   "source": [
    "a=\"my name is ash\""
   ]
  },
  {
   "cell_type": "code",
   "execution_count": 7,
   "metadata": {},
   "outputs": [
    {
     "name": "stdout",
     "output_type": "stream",
     "text": [
      "['my', 'name', 'is', 'ash']\n"
     ]
    }
   ],
   "source": [
    "words=nltk.word_tokenize(a)\n",
    "print(words)"
   ]
  },
  {
   "cell_type": "code",
   "execution_count": 8,
   "metadata": {},
   "outputs": [],
   "source": [
    "b=\"the sun rises at east. sets at west\""
   ]
  },
  {
   "cell_type": "code",
   "execution_count": 9,
   "metadata": {},
   "outputs": [
    {
     "name": "stdout",
     "output_type": "stream",
     "text": [
      "['the sun rises at east.', 'sets at west']\n"
     ]
    }
   ],
   "source": [
    "sents=nltk.sent_tokenize(b)\n",
    "print(sents)"
   ]
  },
  {
   "cell_type": "code",
   "execution_count": 10,
   "metadata": {},
   "outputs": [],
   "source": [
    "c=\"It originated from the idea that there are readers who prefer learning new skills from the comfort of their drawing rooms\""
   ]
  },
  {
   "cell_type": "code",
   "execution_count": 11,
   "metadata": {},
   "outputs": [],
   "source": [
    "from nltk.stem.porter import PorterStemmer\n",
    "po_ste=PorterStemmer()"
   ]
  },
  {
   "cell_type": "code",
   "execution_count": 12,
   "metadata": {},
   "outputs": [],
   "source": [
    "tok=nltk.word_tokenize(c)"
   ]
  },
  {
   "cell_type": "code",
   "execution_count": 13,
   "metadata": {},
   "outputs": [
    {
     "name": "stdout",
     "output_type": "stream",
     "text": [
      "It : It\n",
      "originated : origin\n",
      "from : from\n",
      "the : the\n",
      "idea : idea\n",
      "that : that\n",
      "there : there\n",
      "are : are\n",
      "readers : reader\n",
      "who : who\n",
      "prefer : prefer\n",
      "learning : learn\n",
      "new : new\n",
      "skills : skill\n",
      "from : from\n",
      "the : the\n",
      "comfort : comfort\n",
      "of : of\n",
      "their : their\n",
      "drawing : draw\n",
      "rooms : room\n"
     ]
    }
   ],
   "source": [
    "for w in tok:\n",
    "    print(w,\":\",po_ste.stem(w))"
   ]
  },
  {
   "cell_type": "code",
   "execution_count": 14,
   "metadata": {},
   "outputs": [],
   "source": [
    "words=[\"program\",\"programs\",\"programer\",\"programing\",\"programers\"]"
   ]
  },
  {
   "cell_type": "code",
   "execution_count": 15,
   "metadata": {},
   "outputs": [
    {
     "name": "stdout",
     "output_type": "stream",
     "text": [
      "program : program\n",
      "programs : program\n",
      "programer : program\n",
      "programing : program\n",
      "programers : program\n"
     ]
    }
   ],
   "source": [
    "for i in words:\n",
    "    print(i,\":\",po_ste.stem(i))"
   ]
  },
  {
   "cell_type": "code",
   "execution_count": 16,
   "metadata": {},
   "outputs": [],
   "source": [
    "from nltk.stem import WordNetLemmatizer\n",
    "wlem=WordNetLemmatizer()"
   ]
  },
  {
   "cell_type": "code",
   "execution_count": 20,
   "metadata": {},
   "outputs": [
    {
     "name": "stdout",
     "output_type": "stream",
     "text": [
      "It : It\n",
      "originated : originated\n",
      "from : from\n",
      "the : the\n",
      "idea : idea\n",
      "that : that\n",
      "there : there\n",
      "are : are\n",
      "readers : reader\n",
      "who : who\n",
      "prefer : prefer\n",
      "learning : learning\n",
      "new : new\n",
      "skills : skill\n",
      "from : from\n",
      "the : the\n",
      "comfort : comfort\n",
      "of : of\n",
      "their : their\n",
      "drawing : drawing\n",
      "rooms : room\n"
     ]
    }
   ],
   "source": [
    "for j in tok:\n",
    "    print(j,\":\",wlem.lemmatize(j))"
   ]
  },
  {
   "cell_type": "code",
   "execution_count": 24,
   "metadata": {},
   "outputs": [],
   "source": [
    "from nltk.corpus import stopwords\n",
    "from nltk.tokenize import word_tokenize, sent_tokenize"
   ]
  },
  {
   "cell_type": "code",
   "execution_count": 29,
   "metadata": {},
   "outputs": [],
   "source": [
    "stop_words=set(stopwords.words('english'))"
   ]
  },
  {
   "cell_type": "code",
   "execution_count": 30,
   "metadata": {},
   "outputs": [],
   "source": [
    "txt=\"Joe waited for the train. The train was late. Mary and Samantha took the bus. I looked for Mary and Samantha at the bus station\""
   ]
  },
  {
   "cell_type": "code",
   "execution_count": 36,
   "metadata": {},
   "outputs": [],
   "source": [
    "tokenized = sent_tokenize(txt)"
   ]
  },
  {
   "cell_type": "code",
   "execution_count": 44,
   "metadata": {},
   "outputs": [
    {
     "name": "stdout",
     "output_type": "stream",
     "text": [
      "[('Joe', 'NNP'), ('waited', 'VBD'), ('train', 'NN'), ('.', '.')]\n",
      "[('The', 'DT'), ('train', 'NN'), ('late', 'RB'), ('.', '.')]\n",
      "[('Mary', 'NNP'), ('Samantha', 'NNP'), ('took', 'VBD'), ('bus', 'NN'), ('.', '.')]\n",
      "[('I', 'PRP'), ('looked', 'VBD'), ('Mary', 'NNP'), ('Samantha', 'NNP'), ('bus', 'NN'), ('station', 'NN')]\n"
     ]
    }
   ],
   "source": [
    "for k in tokenized:\n",
    "    wordList=nltk.word_tokenize(k)\n",
    "    wordList=[l for l in wordList if not l in stop_words]\n",
    "    tagged=nltk.pos_tag(wordList)\n",
    "    print(tagged)"
   ]
  },
  {
   "cell_type": "code",
   "execution_count": 45,
   "metadata": {},
   "outputs": [],
   "source": [
    "from nltk import Nonterminal, nonterminals, Production, CFG"
   ]
  },
  {
   "cell_type": "code",
   "execution_count": 47,
   "metadata": {},
   "outputs": [],
   "source": [
    "nt1=Nonterminal('NP')\n",
    "nt2=Nonterminal('VP')"
   ]
  },
  {
   "cell_type": "code",
   "execution_count": 48,
   "metadata": {},
   "outputs": [
    {
     "data": {
      "text/plain": [
       "'NP'"
      ]
     },
     "execution_count": 48,
     "metadata": {},
     "output_type": "execute_result"
    }
   ],
   "source": [
    "nt1.symbol()"
   ]
  },
  {
   "cell_type": "code",
   "execution_count": 49,
   "metadata": {},
   "outputs": [
    {
     "data": {
      "text/plain": [
       "True"
      ]
     },
     "execution_count": 49,
     "metadata": {},
     "output_type": "execute_result"
    }
   ],
   "source": [
    "nt1==Nonterminal('NP')"
   ]
  },
  {
   "cell_type": "code",
   "execution_count": 50,
   "metadata": {},
   "outputs": [
    {
     "data": {
      "text/plain": [
       "False"
      ]
     },
     "execution_count": 50,
     "metadata": {},
     "output_type": "execute_result"
    }
   ],
   "source": [
    "nt1==nt2"
   ]
  },
  {
   "cell_type": "code",
   "execution_count": 56,
   "metadata": {},
   "outputs": [],
   "source": [
    "S, NP, VP, PP = nonterminals('S, NP, VP, PP')\n",
    "N, V, P, DT = nonterminals('N, V, P, DT')\n",
    "prod1=Production(S, [NP,VP])\n",
    "prod2=Production(NP, [DT,NP])"
   ]
  },
  {
   "cell_type": "code",
   "execution_count": 52,
   "metadata": {},
   "outputs": [
    {
     "data": {
      "text/plain": [
       "S"
      ]
     },
     "execution_count": 52,
     "metadata": {},
     "output_type": "execute_result"
    }
   ],
   "source": [
    "prod1.lhs()"
   ]
  },
  {
   "cell_type": "code",
   "execution_count": 53,
   "metadata": {},
   "outputs": [
    {
     "data": {
      "text/plain": [
       "(NP, VP)"
      ]
     },
     "execution_count": 53,
     "metadata": {},
     "output_type": "execute_result"
    }
   ],
   "source": [
    "prod1.rhs()"
   ]
  },
  {
   "cell_type": "code",
   "execution_count": 57,
   "metadata": {},
   "outputs": [
    {
     "data": {
      "text/plain": [
       "False"
      ]
     },
     "execution_count": 57,
     "metadata": {},
     "output_type": "execute_result"
    }
   ],
   "source": [
    "prod1 == prod2"
   ]
  },
  {
   "cell_type": "code",
   "execution_count": 61,
   "metadata": {},
   "outputs": [],
   "source": [
    "grammar=CFG.fromstring(\"\"\"\n",
    "S -> NP VP\n",
    "PP -> P NP\n",
    "NP -> 'the' N | N PP | 'the' N PP\n",
    "VP -> V NP | V PP | V NP PP\n",
    "N -> 'cat'\n",
    "N -> 'dog'\n",
    "N -> 'rug'\n",
    "V -> 'chased'\n",
    "V -> 'sat'\n",
    "P -> 'in'\n",
    "P -> 'on'\n",
    "\"\"\")"
   ]
  },
  {
   "cell_type": "code",
   "execution_count": 62,
   "metadata": {},
   "outputs": [],
   "source": [
    "from nltk.parse import RecursiveDescentParser\n",
    "rd=RecursiveDescentParser(grammar)"
   ]
  },
  {
   "cell_type": "code",
   "execution_count": 63,
   "metadata": {},
   "outputs": [],
   "source": [
    "sentence1='the cat chased the dog'.split()\n",
    "sentence2='the cat chased the dog on the rug'.split()"
   ]
  },
  {
   "cell_type": "code",
   "execution_count": 64,
   "metadata": {},
   "outputs": [
    {
     "name": "stdout",
     "output_type": "stream",
     "text": [
      "(S (NP the (N cat)) (VP (V chased) (NP the (N dog))))\n"
     ]
    }
   ],
   "source": [
    "for t in rd.parse(sentence1):\n",
    "    print(t)"
   ]
  },
  {
   "cell_type": "code",
   "execution_count": 65,
   "metadata": {},
   "outputs": [
    {
     "name": "stdout",
     "output_type": "stream",
     "text": [
      "(S\n",
      "  (NP the (N cat))\n",
      "  (VP (V chased) (NP the (N dog) (PP (P on) (NP the (N rug))))))\n",
      "(S\n",
      "  (NP the (N cat))\n",
      "  (VP (V chased) (NP the (N dog)) (PP (P on) (NP the (N rug)))))\n"
     ]
    }
   ],
   "source": [
    "for t in rd.parse(sentence2):\n",
    "    print(t)"
   ]
  },
  {
   "cell_type": "code",
   "execution_count": 66,
   "metadata": {},
   "outputs": [],
   "source": [
    "from nltk.parse import ShiftReduceParser\n",
    "sr=ShiftReduceParser(grammar)"
   ]
  },
  {
   "cell_type": "code",
   "execution_count": 67,
   "metadata": {},
   "outputs": [
    {
     "name": "stdout",
     "output_type": "stream",
     "text": [
      "(S (NP the (N cat)) (VP (V chased) (NP the (N dog))))\n"
     ]
    }
   ],
   "source": [
    "for t in sr.parse(sentence1):\n",
    "    print(t)"
   ]
  },
  {
   "cell_type": "code",
   "execution_count": 70,
   "metadata": {},
   "outputs": [],
   "source": [
    "for t in sr.parse(sentence2):\n",
    "    print(t)"
   ]
  },
  {
   "cell_type": "code",
   "execution_count": 71,
   "metadata": {},
   "outputs": [
    {
     "name": "stdout",
     "output_type": "stream",
     "text": [
      "* Sentence:\n",
      "I saw a dog\n",
      "['I', 'saw', 'a', 'dog']\n",
      "\n",
      "* Strategy: Bottom-up\n",
      "\n",
      "|.    I    .   saw   .    a    .   dog   .|\n",
      "|[---------]         .         .         .| [0:1] 'I'\n",
      "|.         [---------]         .         .| [1:2] 'saw'\n",
      "|.         .         [---------]         .| [2:3] 'a'\n",
      "|.         .         .         [---------]| [3:4] 'dog'\n",
      "|>         .         .         .         .| [0:0] NP -> * 'I'\n",
      "|[---------]         .         .         .| [0:1] NP -> 'I' *\n",
      "|>         .         .         .         .| [0:0] S  -> * NP VP\n",
      "|>         .         .         .         .| [0:0] NP -> * NP PP\n",
      "|[--------->         .         .         .| [0:1] S  -> NP * VP\n",
      "|[--------->         .         .         .| [0:1] NP -> NP * PP\n",
      "|.         >         .         .         .| [1:1] Verb -> * 'saw'\n",
      "|.         [---------]         .         .| [1:2] Verb -> 'saw' *\n",
      "|.         >         .         .         .| [1:1] VP -> * Verb NP\n",
      "|.         >         .         .         .| [1:1] VP -> * Verb\n",
      "|.         [--------->         .         .| [1:2] VP -> Verb * NP\n",
      "|.         [---------]         .         .| [1:2] VP -> Verb *\n",
      "|.         >         .         .         .| [1:1] VP -> * VP PP\n",
      "|[-------------------]         .         .| [0:2] S  -> NP VP *\n",
      "|.         [--------->         .         .| [1:2] VP -> VP * PP\n",
      "|.         .         >         .         .| [2:2] Det -> * 'a'\n",
      "|.         .         [---------]         .| [2:3] Det -> 'a' *\n",
      "|.         .         >         .         .| [2:2] NP -> * Det Noun\n",
      "|.         .         [--------->         .| [2:3] NP -> Det * Noun\n",
      "|.         .         .         >         .| [3:3] Noun -> * 'dog'\n",
      "|.         .         .         [---------]| [3:4] Noun -> 'dog' *\n",
      "|.         .         [-------------------]| [2:4] NP -> Det Noun *\n",
      "|.         .         >         .         .| [2:2] S  -> * NP VP\n",
      "|.         .         >         .         .| [2:2] NP -> * NP PP\n",
      "|.         [-----------------------------]| [1:4] VP -> Verb NP *\n",
      "|.         .         [------------------->| [2:4] S  -> NP * VP\n",
      "|.         .         [------------------->| [2:4] NP -> NP * PP\n",
      "|[=======================================]| [0:4] S  -> NP VP *\n",
      "|.         [----------------------------->| [1:4] VP -> VP * PP\n",
      "Nr edges in chart: 33\n",
      "(S (NP I) (VP (Verb saw) (NP (Det a) (Noun dog))))\n",
      "\n"
     ]
    }
   ],
   "source": [
    "nltk.parse.chart.demo(2, print_times=False, trace=1, sent='I saw a dog', numparses=1)"
   ]
  },
  {
   "cell_type": "code",
   "execution_count": 73,
   "metadata": {},
   "outputs": [
    {
     "name": "stdout",
     "output_type": "stream",
     "text": [
      "* Sentence:\n",
      "I saw John with a dog\n",
      "['I', 'saw', 'John', 'with', 'a', 'dog']\n",
      "\n",
      "* Strategy: Bottom-up\n",
      "\n",
      "Nr edges in chart: 53\n",
      "(S\n",
      "  (NP I)\n",
      "  (VP (VP (Verb saw) (NP John)) (PP with (NP (Det a) (Noun dog)))))\n",
      "(S\n",
      "  (NP I)\n",
      "  (VP (Verb saw) (NP (NP John) (PP with (NP (Det a) (Noun dog))))))\n",
      "\n"
     ]
    }
   ],
   "source": [
    "nltk.parse.chart.demo(2, print_times=False, trace=0, sent='I saw John with a dog', numparses=2)"
   ]
  },
  {
   "cell_type": "code",
   "execution_count": 74,
   "metadata": {},
   "outputs": [
    {
     "name": "stdout",
     "output_type": "stream",
     "text": [
      "* Sentence:\n",
      "I saw John with a dog\n",
      "['I', 'saw', 'John', 'with', 'a', 'dog']\n",
      "\n",
      "* Strategy: Top-down\n",
      "\n",
      "Nr edges in chart: 48\n",
      "(S\n",
      "  (NP I)\n",
      "  (VP (Verb saw) (NP (NP John) (PP with (NP (Det a) (Noun dog))))))\n",
      "(S\n",
      "  (NP I)\n",
      "  (VP (VP (Verb saw) (NP John)) (PP with (NP (Det a) (Noun dog)))))\n",
      "\n"
     ]
    }
   ],
   "source": [
    "nltk.parse.chart.demo(1, print_times=False, trace=0, sent='I saw John with a dog', numparses=2)"
   ]
  },
  {
   "cell_type": "code",
   "execution_count": 75,
   "metadata": {},
   "outputs": [
    {
     "name": "stdout",
     "output_type": "stream",
     "text": [
      "* Sentence:\n",
      "I saw John with a dog\n",
      "['I', 'saw', 'John', 'with', 'a', 'dog']\n",
      "\n",
      "* Strategy: Stepping (top-down vs bottom-up)\n",
      "\n",
      "*** SWITCH TO TOP DOWN\n",
      "|[------]      .      .      .      .      .| [0:1] 'I'\n",
      "|.      [------]      .      .      .      .| [1:2] 'saw'\n",
      "|.      .      [------]      .      .      .| [2:3] 'John'\n",
      "|.      .      .      [------]      .      .| [3:4] 'with'\n",
      "|.      .      .      .      [------]      .| [4:5] 'a'\n",
      "|.      .      .      .      .      [------]| [5:6] 'dog'\n",
      "|>      .      .      .      .      .      .| [0:0] S  -> * NP VP\n",
      "|>      .      .      .      .      .      .| [0:0] NP -> * NP PP\n",
      "|>      .      .      .      .      .      .| [0:0] NP -> * Det Noun\n",
      "|>      .      .      .      .      .      .| [0:0] NP -> * 'I'\n",
      "|[------]      .      .      .      .      .| [0:1] NP -> 'I' *\n",
      "|[------>      .      .      .      .      .| [0:1] S  -> NP * VP\n",
      "|[------>      .      .      .      .      .| [0:1] NP -> NP * PP\n",
      "|.      >      .      .      .      .      .| [1:1] VP -> * VP PP\n",
      "|.      >      .      .      .      .      .| [1:1] VP -> * Verb NP\n",
      "|.      >      .      .      .      .      .| [1:1] VP -> * Verb\n",
      "|.      >      .      .      .      .      .| [1:1] Verb -> * 'saw'\n",
      "|.      [------]      .      .      .      .| [1:2] Verb -> 'saw' *\n",
      "|.      [------>      .      .      .      .| [1:2] VP -> Verb * NP\n",
      "|.      [------]      .      .      .      .| [1:2] VP -> Verb *\n",
      "|[-------------]      .      .      .      .| [0:2] S  -> NP VP *\n",
      "|.      [------>      .      .      .      .| [1:2] VP -> VP * PP\n",
      "*** SWITCH TO BOTTOM UP\n",
      "|.      .      >      .      .      .      .| [2:2] NP -> * 'John'\n",
      "|.      .      .      >      .      .      .| [3:3] PP -> * 'with' NP\n",
      "|.      .      .      >      .      .      .| [3:3] Prep -> * 'with'\n",
      "|.      .      .      .      >      .      .| [4:4] Det -> * 'a'\n",
      "|.      .      .      .      .      >      .| [5:5] Noun -> * 'dog'\n",
      "|.      .      [------]      .      .      .| [2:3] NP -> 'John' *\n",
      "|.      .      .      [------>      .      .| [3:4] PP -> 'with' * NP\n",
      "|.      .      .      [------]      .      .| [3:4] Prep -> 'with' *\n",
      "|.      .      .      .      [------]      .| [4:5] Det -> 'a' *\n",
      "|.      .      .      .      .      [------]| [5:6] Noun -> 'dog' *\n",
      "|.      [-------------]      .      .      .| [1:3] VP -> Verb NP *\n",
      "|[--------------------]      .      .      .| [0:3] S  -> NP VP *\n",
      "|.      [------------->      .      .      .| [1:3] VP -> VP * PP\n",
      "|.      .      >      .      .      .      .| [2:2] S  -> * NP VP\n",
      "|.      .      >      .      .      .      .| [2:2] NP -> * NP PP\n",
      "|.      .      .      .      >      .      .| [4:4] NP -> * Det Noun\n",
      "|.      .      [------>      .      .      .| [2:3] S  -> NP * VP\n",
      "|.      .      [------>      .      .      .| [2:3] NP -> NP * PP\n",
      "|.      .      .      .      [------>      .| [4:5] NP -> Det * Noun\n",
      "|.      .      .      .      [-------------]| [4:6] NP -> Det Noun *\n",
      "|.      .      .      [--------------------]| [3:6] PP -> 'with' NP *\n",
      "|.      [----------------------------------]| [1:6] VP -> VP PP *\n",
      "*** SWITCH TO TOP DOWN\n",
      "|.      .      >      .      .      .      .| [2:2] NP -> * Det Noun\n",
      "|.      .      .      .      >      .      .| [4:4] NP -> * NP PP\n",
      "|.      .      .      >      .      .      .| [3:3] VP -> * VP PP\n",
      "|.      .      .      >      .      .      .| [3:3] VP -> * Verb NP\n",
      "|.      .      .      >      .      .      .| [3:3] VP -> * Verb\n",
      "|[=========================================]| [0:6] S  -> NP VP *\n",
      "|.      [---------------------------------->| [1:6] VP -> VP * PP\n",
      "|.      .      [---------------------------]| [2:6] NP -> NP PP *\n",
      "|.      .      .      .      [------------->| [4:6] NP -> NP * PP\n",
      "|.      [----------------------------------]| [1:6] VP -> Verb NP *\n",
      "|.      .      [--------------------------->| [2:6] S  -> NP * VP\n",
      "|.      .      [--------------------------->| [2:6] NP -> NP * PP\n",
      "|[=========================================]| [0:6] S  -> NP VP *\n",
      "|.      [---------------------------------->| [1:6] VP -> VP * PP\n",
      "|.      .      .      .      .      .      >| [6:6] VP -> * VP PP\n",
      "|.      .      .      .      .      .      >| [6:6] VP -> * Verb NP\n",
      "|.      .      .      .      .      .      >| [6:6] VP -> * Verb\n",
      "*** SWITCH TO BOTTOM UP\n",
      "|.      .      .      .      >      .      .| [4:4] S  -> * NP VP\n",
      "|.      .      .      .      [------------->| [4:6] S  -> NP * VP\n",
      "*** SWITCH TO TOP DOWN\n",
      "*** SWITCH TO BOTTOM UP\n",
      "*** SWITCH TO TOP DOWN\n",
      "*** SWITCH TO BOTTOM UP\n",
      "*** SWITCH TO TOP DOWN\n",
      "*** SWITCH TO BOTTOM UP\n",
      "Nr edges in chart: 61\n",
      "(S\n",
      "  (NP I)\n",
      "  (VP (VP (Verb saw) (NP John)) (PP with (NP (Det a) (Noun dog)))))\n",
      "(S\n",
      "  (NP I)\n",
      "  (VP (Verb saw) (NP (NP John) (PP with (NP (Det a) (Noun dog))))))\n",
      "\n"
     ]
    }
   ],
   "source": [
    "nltk.parse.chart.demo(5, print_times=False, trace=1, sent='I saw John with a dog', numparses=2)"
   ]
  },
  {
   "cell_type": "code",
   "execution_count": null,
   "metadata": {},
   "outputs": [],
   "source": []
  }
 ],
 "metadata": {
  "kernelspec": {
   "display_name": "Python 3",
   "language": "python",
   "name": "python3"
  },
  "language_info": {
   "codemirror_mode": {
    "name": "ipython",
    "version": 3
   },
   "file_extension": ".py",
   "mimetype": "text/x-python",
   "name": "python",
   "nbconvert_exporter": "python",
   "pygments_lexer": "ipython3",
   "version": "3.7.0"
  }
 },
 "nbformat": 4,
 "nbformat_minor": 2
}
