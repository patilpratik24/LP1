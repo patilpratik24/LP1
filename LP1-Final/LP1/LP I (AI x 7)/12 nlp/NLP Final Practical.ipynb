{
 "cells": [
  {
   "cell_type": "code",
   "execution_count": 1,
   "metadata": {},
   "outputs": [],
   "source": [
    "import nltk"
   ]
  },
  {
   "cell_type": "markdown",
   "metadata": {},
   "source": [
    "## Tokenization"
   ]
  },
  {
   "cell_type": "code",
   "execution_count": 2,
   "metadata": {},
   "outputs": [],
   "source": [
    "from nltk.tokenize import word_tokenize, sent_tokenize"
   ]
  },
  {
   "cell_type": "code",
   "execution_count": 3,
   "metadata": {},
   "outputs": [],
   "source": [
    "#Importing the dataset from the corpus\n",
    "from nltk.corpus import product_reviews_1"
   ]
  },
  {
   "cell_type": "code",
   "execution_count": 4,
   "metadata": {},
   "outputs": [],
   "source": [
    "data = product_reviews_1.raw(\"Nokia_6610.txt\")"
   ]
  },
  {
   "cell_type": "code",
   "execution_count": 5,
   "metadata": {},
   "outputs": [
    {
     "data": {
      "text/plain": [
       "'*****************************************************************************\\n* Annotated by: Minqing Hu and Bing Liu, 2004.\\n*\\t\\tDepartment of Computer Sicence\\n*               University of Illinois at Chicago              \\n*\\n* Product name: Nokia 6610\\n* Review Source: amazon.com\\n*\\n* See Readme.txt to find the meaning of each symbol. \\n*****************************************************************************\\n\\n[t]excellent phone , excellent service . \\n##i am a business user who heavily depend on mobile service . \\nphone[+3], work[+2]##there is much which has been said in other reviews about the features of this phone , it is a great phone , mine worked without any problems right out of the box . \\n##just double check with customer service to ensure the number provided by amazon is for the city / exchange you wanted . \\nat&t customer service[-2]##after several years of torture in the hands of at&t customer service i am delighted to drop them , and look forward to august 2004 when i will convert our other 3 family-phones from at&t to t-mobile ! \\nsignal quality[+3]##i have had the phone for 1 week , the signal quality has been great in the detroit area ( suburbs ) and in my recent road trip between detroit and northern kentucky ( cincinnati ) i experienced perfect signal and reception along i-75 , far superior to at &#38; t \\'s which does not work along several long stretches on that same route . \\n##i have owned motorola , panasonic and nokia phones over the last 8 years and generally prefer nokia , this phone combines many of the best nokia features , the only feature missing for me is the voice recognition . \\nspeaker phone[+2],radio[+2],infrared[+2]##my favorite features , although there are many , are the speaker phone , the radio and the infrared . \\nspeaker phone[+2]##the speaker phone is very functional and i use it in the car , very audible even with freeway noise . \\ninfrared[+2]##the infrared is a blessing if you have a previous nokia and want to transfer your old phone book to this phone , saved me hours of re-entering my numbers . \\n##the combination of the nokia 6610 and t-mobile service ( signal , price , service ) is a winner , i highly recommend it . \\n[t]good phone , so-so service . \\nsprint[-2]##the day finally arrived when i was sure i \\'d leave sprint . \\nsprint plan[-2],sprint customer service[-3]##after years with that carrier \\'s expensive plans and horrible customer service , portability seemed heaven-sent . \\n##i \\'d always eyed the nokia phones and had heard decent things about t-mobile , so i gave it a whirl . \\nsize[+1][u], sturdy[+2]##here \\'s the brief synopsis : the phone is tiny , cute , feels kind of \" plastic-like \" ( as if it might break ) , but seems pretty sturdy . \\ngame[+2],pim[+2],radio[+2]##it has lots of little cute features , my favorite being the games and the pim ( personal information manager -- i.e. organizer ) , and the radio ! \\nreception[-2]##i spent hours setting up the stations ( accepts about 13-14 , i believe ) , though the reception is unpredictable . \\n##also , you need to have the headset plugged in all the time to have the radio work and that can get tedious . \\nsound volume[+1], ear[-2]##the headset that comes with the phone has good sound volume but it hurts the ears like you cannot imagine ! \\nringtone[+1],background[+1],screensaver[+1],memory[-2]##the phone comes with okay ringtones , some decent backgrounds / screensavers , but the phone has very little memory ( mine had 230kb as it arrived from amazon , so you do n\\'t have too many options on what you can put on there ) . \\ncolor[-2]##the colors on the screen are not as crisp as i \\'d have liked them to be . \\n##however , it serves its purpose . \\nbacklight[-1]##the backlight on the phone goes off way too quickly ( dangerous when you \\'re driving at night ) , and there \\'s no way to change this -- \\n##i checked with nokia . \\nbutton[-1]##the buttons on the phone are small , even for my small fingertips , but you get used to them rather quickly . \\nmenu options[-1]##the menu options are uncreative , as you can \\'t see a full screen of menu items to pick from ; you have to scroll up and down to find what you \\'re looking for ( yes , this is minor , but not when you \\'re trying to keep your eye on the road ! ) . \\n##more downside to this phone ? \\nvolume[-2]##the volume . \\n##oh my goodness -- \\nvolume[-2]##i have excellent hearing but the volume level on this phone is especially quiet . \\n##forget talking on it in public -- you just can \\'t hear the other person ! \\nbattery life[+3]##on the up-side , the phone has amazing battery life . \\nphone[+2]##i do like this phone overall ( would give it a 3.5 ) , but unforutnately , i am returning it . \\n##i was surprised by t-mobile \\'s service . \\nt-mobile reception[-3]##i assumed they had exceptional service , but their reception in my area ( los angeles ) is horrendous . \\n##reason ? \\n##they piggy-back on cingular \\'s service . \\nt-zone[-3]##also , their t-zones , although cheap ( $ 4.99 / mo. ) never '"
      ]
     },
     "execution_count": 5,
     "metadata": {},
     "output_type": "execute_result"
    }
   ],
   "source": [
    "data[0:5000]"
   ]
  },
  {
   "cell_type": "markdown",
   "metadata": {},
   "source": [
    "## Word Tokenization\n",
    "\n",
    "- Grouping of words present in the dataset"
   ]
  },
  {
   "cell_type": "code",
   "execution_count": 6,
   "metadata": {},
   "outputs": [],
   "source": [
    "words = nltk.word_tokenize(data)"
   ]
  },
  {
   "cell_type": "code",
   "execution_count": 7,
   "metadata": {},
   "outputs": [
    {
     "name": "stdout",
     "output_type": "stream",
     "text": [
      "['*****************************************************************************', '*', 'Annotated', 'by', ':', 'Minqing', 'Hu', 'and', 'Bing', 'Liu', ',', '2004', '.', '*', 'Department', 'of', 'Computer', 'Sicence', '*', 'University', 'of', 'Illinois', 'at', 'Chicago', '*', '*', 'Product', 'name', ':', 'Nokia', '6610', '*', 'Review', 'Source', ':', 'amazon.com', '*', '*', 'See', 'Readme.txt', 'to', 'find', 'the', 'meaning', 'of', 'each', 'symbol', '.', '*****************************************************************************', '[', 't', ']', 'excellent', 'phone', ',', 'excellent', 'service', '.', '#', '#', 'i', 'am', 'a', 'business', 'user', 'who', 'heavily', 'depend', 'on', 'mobile', 'service', '.', 'phone', '[', '+3', ']', ',', 'work', '[', '+2', ']', '#', '#', 'there', 'is', 'much', 'which', 'has', 'been', 'said', 'in', 'other', 'reviews', 'about', 'the', 'features', 'of', 'this', 'phone', ',', 'it', 'is', 'a', 'great', 'phone', ',', 'mine', 'worked', 'without', 'any', 'problems', 'right', 'out', 'of', 'the', 'box', '.', '#', '#', 'just', 'double', 'check', 'with', 'customer', 'service', 'to', 'ensure', 'the', 'number', 'provided', 'by', 'amazon', 'is', 'for', 'the', 'city', '/', 'exchange', 'you', 'wanted', '.', 'at', '&', 't', 'customer', 'service', '[', '-2', ']', '#', '#', 'after', 'several', 'years', 'of', 'torture', 'in', 'the', 'hands', 'of', 'at', '&', 't', 'customer', 'service', 'i', 'am', 'delighted', 'to', 'drop', 'them', ',', 'and', 'look', 'forward', 'to', 'august', '2004', 'when', 'i', 'will', 'convert', 'our', 'other', '3', 'family-phones', 'from', 'at', '&', 't', 'to', 't-mobile', '!', 'signal', 'quality', '[', '+3', ']', '#', '#', 'i', 'have', 'had', 'the', 'phone', 'for', '1', 'week', ',', 'the', 'signal', 'quality', 'has', 'been', 'great', 'in', 'the', 'detroit', 'area', '(', 'suburbs', ')', 'and', 'in', 'my', 'recent', 'road', 'trip', 'between', 'detroit', 'and', 'northern', 'kentucky', '(', 'cincinnati', ')', 'i', 'experienced', 'perfect', 'signal', 'and', 'reception', 'along', 'i-75', ',', 'far', 'superior', 'to', 'at', '&', '#', '38', ';', 't', \"'s\", 'which', 'does', 'not', 'work', 'along', 'several', 'long', 'stretches', 'on', 'that', 'same', 'route', '.', '#', '#', 'i', 'have', 'owned', 'motorola', ',', 'panasonic', 'and', 'nokia', 'phones', 'over', 'the', 'last', '8', 'years', 'and', 'generally', 'prefer', 'nokia', ',', 'this', 'phone', 'combines', 'many', 'of', 'the', 'best', 'nokia', 'features', ',', 'the', 'only', 'feature', 'missing', 'for', 'me', 'is', 'the', 'voice', 'recognition', '.', 'speaker', 'phone', '[', '+2', ']', ',', 'radio', '[', '+2', ']', ',', 'infrared', '[', '+2', ']', '#', '#', 'my', 'favorite', 'features', ',', 'although', 'there', 'are', 'many', ',', 'are', 'the', 'speaker', 'phone', ',', 'the', 'radio', 'and', 'the', 'infrared', '.', 'speaker', 'phone', '[', '+2', ']', '#', '#', 'the', 'speaker', 'phone', 'is', 'very', 'functional', 'and', 'i', 'use', 'it', 'in', 'the', 'car', ',', 'very', 'audible', 'even', 'with', 'freeway', 'noise', '.', 'infrared', '[', '+2', ']', '#', '#', 'the', 'infrared', 'is', 'a', 'blessing', 'if', 'you', 'have', 'a', 'previous', 'nokia', 'and', 'want', 'to', 'transfer', 'your', 'old', 'phone', 'book', 'to', 'this', 'phone', ',', 'saved', 'me', 'hours', 'of', 're-entering', 'my', 'numbers', '.', '#', '#', 'the', 'combination', 'of', 'the', 'nokia', '6610', 'and', 't-mobile', 'service', '(', 'signal', ',', 'price', ',', 'service', ')', 'is', 'a', 'winner', ',', 'i', 'highly', 'recommend', 'it', '.', '[', 't', ']', 'good', 'phone', ',', 'so-so', 'service', '.', 'sprint', '[', '-2', ']', '#', '#', 'the', 'day', 'finally', 'arrived', 'when', 'i', 'was', 'sure', 'i', \"'d\", 'leave', 'sprint', '.', 'sprint', 'plan', '[', '-2', ']', ',', 'sprint', 'customer', 'service', '[', '-3', ']', '#', '#', 'after', 'years', 'with', 'that', 'carrier', \"'s\", 'expensive', 'plans', 'and', 'horrible', 'customer', 'service', ',', 'portability', 'seemed', 'heaven-sent', '.', '#', '#']\n"
     ]
    }
   ],
   "source": [
    "print(words[0:500])"
   ]
  },
  {
   "cell_type": "markdown",
   "metadata": {},
   "source": [
    "## Sentence Tokenization\n",
    "\n",
    "- Grouping of sentences present in the dataset"
   ]
  },
  {
   "cell_type": "code",
   "execution_count": 8,
   "metadata": {},
   "outputs": [],
   "source": [
    "sentences = nltk.sent_tokenize(data)"
   ]
  },
  {
   "cell_type": "code",
   "execution_count": null,
   "metadata": {},
   "outputs": [
    {
     "name": "stdout",
     "output_type": "stream",
     "text": [
      "['*****************************************************************************\\n* Annotated by: Minqing Hu and Bing Liu, 2004.', '*\\t\\tDepartment of Computer Sicence\\n*               University of Illinois at Chicago              \\n*\\n* Product name: Nokia 6610\\n* Review Source: amazon.com\\n*\\n* See Readme.txt to find the meaning of each symbol.', '*****************************************************************************\\n\\n[t]excellent phone , excellent service .', '##i am a business user who heavily depend on mobile service .', 'phone[+3], work[+2]##there is much which has been said in other reviews about the features of this phone , it is a great phone , mine worked without any problems right out of the box .', '##just double check with customer service to ensure the number provided by amazon is for the city / exchange you wanted .', 'at&t customer service[-2]##after several years of torture in the hands of at&t customer service i am delighted to drop them , and look forward to august 2004 when i will convert our other 3 family-phones from at&t to t-mobile !', \"signal quality[+3]##i have had the phone for 1 week , the signal quality has been great in the detroit area ( suburbs ) and in my recent road trip between detroit and northern kentucky ( cincinnati ) i experienced perfect signal and reception along i-75 , far superior to at &#38; t 's which does not work along several long stretches on that same route .\", '##i have owned motorola , panasonic and nokia phones over the last 8 years and generally prefer nokia , this phone combines many of the best nokia features , the only feature missing for me is the voice recognition .', 'speaker phone[+2],radio[+2],infrared[+2]##my favorite features , although there are many , are the speaker phone , the radio and the infrared .', 'speaker phone[+2]##the speaker phone is very functional and i use it in the car , very audible even with freeway noise .', 'infrared[+2]##the infrared is a blessing if you have a previous nokia and want to transfer your old phone book to this phone , saved me hours of re-entering my numbers .', '##the combination of the nokia 6610 and t-mobile service ( signal , price , service ) is a winner , i highly recommend it .', '[t]good phone , so-so service .', \"sprint[-2]##the day finally arrived when i was sure i 'd leave sprint .\", \"sprint plan[-2],sprint customer service[-3]##after years with that carrier 's expensive plans and horrible customer service , portability seemed heaven-sent .\", \"##i 'd always eyed the nokia phones and had heard decent things about t-mobile , so i gave it a whirl .\", 'size[+1][u], sturdy[+2]##here \\'s the brief synopsis : the phone is tiny , cute , feels kind of \" plastic-like \" ( as if it might break ) , but seems pretty sturdy .', 'game[+2],pim[+2],radio[+2]##it has lots of little cute features , my favorite being the games and the pim ( personal information manager -- i.e.', 'organizer ) , and the radio !', 'reception[-2]##i spent hours setting up the stations ( accepts about 13-14 , i believe ) , though the reception is unpredictable .', '##also , you need to have the headset plugged in all the time to have the radio work and that can get tedious .', 'sound volume[+1], ear[-2]##the headset that comes with the phone has good sound volume but it hurts the ears like you cannot imagine !', \"ringtone[+1],background[+1],screensaver[+1],memory[-2]##the phone comes with okay ringtones , some decent backgrounds / screensavers , but the phone has very little memory ( mine had 230kb as it arrived from amazon , so you do n't have too many options on what you can put on there ) .\", \"color[-2]##the colors on the screen are not as crisp as i 'd have liked them to be .\", '##however , it serves its purpose .', \"backlight[-1]##the backlight on the phone goes off way too quickly ( dangerous when you 're driving at night ) , and there 's no way to change this -- \\n##i checked with nokia .\", 'button[-1]##the buttons on the phone are small , even for my small fingertips , but you get used to them rather quickly .', \"menu options[-1]##the menu options are uncreative , as you can 't see a full screen of menu items to pick from ; you have to scroll up and down to find what you 're looking for ( yes , this is minor , but not when you 're trying to keep your eye on the road ! )\", '.', '##more downside to this phone ?', 'volume[-2]##the volume .', '##oh my goodness -- \\nvolume[-2]##i have excellent hearing but the volume level on this phone is especially quiet .', \"##forget talking on it in public -- you just can 't hear the other person !\", 'battery life[+3]##on the up-side , the phone has amazing battery life .', 'phone[+2]##i do like this phone overall ( would give it a 3.5 ) , but unforutnately , i am returning it .', \"##i was surprised by t-mobile 's service .\", 't-mobile reception[-3]##i assumed they had exceptional service , but their reception in my area ( los angeles ) is horrendous .', '##reason ?', \"##they piggy-back on cingular 's service .\", 't-zone[-3]##also , their t-zones , although cheap ( $ 4.99 / mo. )', 'never works .', 'customer service[-2]##since i received the phone , i spent countless hours on the phone with customer service reps who promised t-zones would work \" in 24 hours \" .', 't-zone[-2]##i must have heard this about a dozen times over the span of 2 weeks , when t-zones never worked .', '##24 hours ?', '##by what time standards -- martian ?', \"t-mobile[-2]##apparently , t-mobile is heavily back-logged and can 't keep up with demands .\", '##also , they \\'d forgotten to add \" wap \" capability to my service ( duh ) , so that took another 4-5 days of figuring out .', 'customer rep[+2]##in all fairness , customer reps are very nice , and they ( most of them ) try hard to answer your questions .', '##but they do have this annoying habit of asking you if they \\'ve answered all your questions , even if they did n\\'t , to which they always seem to expect a \" yes \" answer from you .', '##i realize this is for quality assurance purposes , but i should have the right to say when my questions have not been answered ( i.e.', 'me : \\n##\" when will my t-zones work ? \"', ', csr : \\n##\" i \\'m not sure \" . )', '.', '##umm , well , thanks for nothing .', \"##this one csr insisted on trying to get me to say that he 'd answered all my questions ( same interaction as i just described ) , and well .. .\", '##that was annoying .', \"csr[+1]##t-mobile is trying very hard , and again -- they do have pretty good csr 's .\", \"call[-2]##however , the calls constantly drop in my area and i experince mega-static , to the point where i 'd have to dial numbers 6-7 times to get a clear line .\", '##and no t-zones .', \"##so what 's the point ?\", \"sprint[+1]##i 'm staying with sprint , and though i fear that their csr is n't nearly as good as t-mobile 's , the clarity of their reception is exceptional .\", \"##i 've bought the very expensive sanyo 5500/vm4500 -- which i love -- and i 'm okay with my services .\", '##guess all that glitters is not gold .', \"##it was worth a shot -- too bad it did n't work out .\", '##hope someone else has better luck !', '[t]the phone refused to die .', '##i bought one of these phones in kuwait to use with the mtc prepaid telephone service ez because i would be able to use it when i return to the states with t-mobile .', '##recently i accidently washed my telephone with my laundry through two complete 18 minute wash cycles of a washing machine .', '##disgusted with myself after i found the phone in the bottom of the washing machine , i was about to throw it away when one of my fellow soldiers asked if he could dry it out for me in an effort to revive the phone .', '##two days later the phone was returned to me in complete working order .', 'phone performance[+3]##while i like the performance of the phone in every regard , i would buy another one solely upon the apparent indestructibility of it .', 'nokia[+3]##i highly recommend a nokia 6610 .', '[t]best phone for free .', \"##i 've had an assortment of cell phones over the years ( motorola , sony ericsson , nokia etc. )\", 'and in my opinion , nokia has the best menus and promps hands down .', 'feature[+2]##no other color phone has the combination of features that the 6610 offers .', 'speakerphone[+2]##from the speakerphone that can be used up to 15 feet away with clarity , to the downloadable poly-graphic megatones that adds a personal touch to this nifty phone .', \"radio[+2]##whether you 're taking a brisk jog , waiting for a bus or just having lunch at the park , you 'll be glad you had the fm radio .\", '##wish it were a flip phone , but thats not a deal breaker !', '[t]glad to own .', '##i have had this phone for about 5 months .', 'battery[+2]##i treat the battery well and it has lasted .', '##at my heaviest usage , i must recharge after 3 days .', '##it lasts about 5 days otherwise and has lasted up to 10 when i was making very few calls .', '##signal strength will affect the battery life .', '##frequent signal searches eat up battery power .', '##i took great care of the screen , till i realized that the part that might get scratched is part of the cover .', '##i can replace that if the scratch is unbearable to look at .', 'volume[-2]##the volume level of the phone is not all that good .', 'ring[-1]##some of the higher pitched rings are very easy to hear , but not easy to listen to .', 'tone[-2]##the more subtle tones that were included with the phone are hard to hear at times .', 'vibration[-1]##the vibration is not top .', '##it is a teeny phone , so it is hard to put a big mechanism in .', \"##i do n't use the vibration , because it is often easier to hear it vibrate then to feel it .\", '##vibration was not even listed as a feature when i purchased this .', '##so it was no loss .', 'phone[+2]##overall this has been my favorite phone that i have owned .', 'battery life[+2],size[+2],volume[-1][u]##great battery life , perfect size , but a tid bit quieter than i would like .', '##i do hope that they offer more faceplate options .']\n"
     ]
    }
   ],
   "source": [
    "print(sentences[0:100])"
   ]
  },
  {
   "cell_type": "markdown",
   "metadata": {},
   "source": [
    "## Stemming"
   ]
  },
  {
   "cell_type": "code",
   "execution_count": null,
   "metadata": {},
   "outputs": [],
   "source": [
    "from nltk.stem import PorterStemmer"
   ]
  },
  {
   "cell_type": "code",
   "execution_count": null,
   "metadata": {},
   "outputs": [],
   "source": [
    "ps = PorterStemmer()"
   ]
  },
  {
   "cell_type": "code",
   "execution_count": null,
   "metadata": {},
   "outputs": [
    {
     "name": "stdout",
     "output_type": "stream",
     "text": [
      "***************************************************************************** : *****************************************************************************\n",
      "* : *\n",
      "Annotated : annot\n",
      "by : by\n",
      ": : :\n",
      "Minqing : minq\n",
      "Hu : Hu\n",
      "and : and\n",
      "Bing : bing\n",
      "Liu : liu\n",
      ", : ,\n",
      "2004 : 2004\n",
      ". : .\n",
      "* : *\n",
      "Department : depart\n",
      "of : of\n",
      "Computer : comput\n",
      "Sicence : sicenc\n",
      "* : *\n",
      "University : univers\n",
      "of : of\n",
      "Illinois : illinoi\n",
      "at : at\n",
      "Chicago : chicago\n",
      "* : *\n",
      "* : *\n",
      "Product : product\n",
      "name : name\n",
      ": : :\n",
      "Nokia : nokia\n",
      "6610 : 6610\n",
      "* : *\n",
      "Review : review\n",
      "Source : sourc\n",
      ": : :\n",
      "amazon.com : amazon.com\n",
      "* : *\n",
      "* : *\n",
      "See : see\n",
      "Readme.txt : readme.txt\n",
      "to : to\n",
      "find : find\n",
      "the : the\n",
      "meaning : mean\n",
      "of : of\n",
      "each : each\n",
      "symbol : symbol\n",
      ". : .\n",
      "***************************************************************************** : *****************************************************************************\n",
      "[ : [\n"
     ]
    }
   ],
   "source": [
    "for w in words[0:50]:\n",
    "    print(w+\" : \"+str(ps.stem(w)))"
   ]
  },
  {
   "cell_type": "markdown",
   "metadata": {},
   "source": [
    "## Lemmatizing\n",
    "\n",
    "- Similar to that of Stemming except it returns a complete word with meaning"
   ]
  },
  {
   "cell_type": "code",
   "execution_count": null,
   "metadata": {},
   "outputs": [],
   "source": [
    "from nltk.stem import WordNetLemmatizer"
   ]
  },
  {
   "cell_type": "code",
   "execution_count": null,
   "metadata": {},
   "outputs": [],
   "source": [
    "lemmatizer = WordNetLemmatizer()"
   ]
  },
  {
   "cell_type": "code",
   "execution_count": null,
   "metadata": {},
   "outputs": [
    {
     "name": "stdout",
     "output_type": "stream",
     "text": [
      "***************************************************************************** : *****************************************************************************\n",
      "* : *\n",
      "Annotated : Annotated\n",
      "by : by\n",
      ": : :\n",
      "Minqing : Minqing\n",
      "Hu : Hu\n",
      "and : and\n",
      "Bing : Bing\n",
      "Liu : Liu\n",
      ", : ,\n",
      "2004 : 2004\n",
      ". : .\n",
      "* : *\n",
      "Department : Department\n",
      "of : of\n",
      "Computer : Computer\n",
      "Sicence : Sicence\n",
      "* : *\n",
      "University : University\n",
      "of : of\n",
      "Illinois : Illinois\n",
      "at : at\n",
      "Chicago : Chicago\n",
      "* : *\n",
      "* : *\n",
      "Product : Product\n",
      "name : name\n",
      ": : :\n",
      "Nokia : Nokia\n",
      "6610 : 6610\n",
      "* : *\n",
      "Review : Review\n",
      "Source : Source\n",
      ": : :\n",
      "amazon.com : amazon.com\n",
      "* : *\n",
      "* : *\n",
      "See : See\n",
      "Readme.txt : Readme.txt\n",
      "to : to\n",
      "find : find\n",
      "the : the\n",
      "meaning : meaning\n",
      "of : of\n",
      "each : each\n",
      "symbol : symbol\n",
      ". : .\n",
      "***************************************************************************** : *****************************************************************************\n",
      "[ : [\n",
      "t : t\n",
      "] : ]\n",
      "excellent : excellent\n",
      "phone : phone\n",
      ", : ,\n",
      "excellent : excellent\n",
      "service : service\n",
      ". : .\n",
      "# : #\n",
      "# : #\n"
     ]
    }
   ],
   "source": [
    "for w in words[0:60]:\n",
    "    print(w+\" : \"+str(lemmatizer.lemmatize(w)))"
   ]
  },
  {
   "cell_type": "markdown",
   "metadata": {},
   "source": [
    "## Part of the speech tagging\n",
    "\n",
    "- Part of the speech tagging is what it sounds like, tagging the individual words with grammar"
   ]
  },
  {
   "cell_type": "code",
   "execution_count": null,
   "metadata": {},
   "outputs": [
    {
     "name": "stdout",
     "output_type": "stream",
     "text": [
      "[('*****************************************************************************', 'JJ'), ('*', 'NNP'), ('Annotated', 'VBN'), ('by', 'IN'), (':', ':'), ('Minqing', 'NNP'), ('Hu', 'NNP'), ('and', 'CC'), ('Bing', 'NNP'), ('Liu', 'NNP'), (',', ','), ('2004', 'CD'), ('.', '.')]\n",
      "[('*', 'JJ'), ('Department', 'NNP'), ('of', 'IN'), ('Computer', 'NNP'), ('Sicence', 'NNP'), ('*', 'NNP'), ('University', 'NNP'), ('of', 'IN'), ('Illinois', 'NNP'), ('at', 'IN'), ('Chicago', 'NNP'), ('*', 'NNP'), ('*', 'NNP'), ('Product', 'NNP'), ('name', 'NN'), (':', ':'), ('Nokia', 'JJ'), ('6610', 'CD'), ('*', 'NNP'), ('Review', 'NNP'), ('Source', 'NNP'), (':', ':'), ('amazon.com', 'NN'), ('*', 'VBZ'), ('*', 'NNP'), ('See', 'NNP'), ('Readme.txt', 'NNP'), ('to', 'TO'), ('find', 'VB'), ('the', 'DT'), ('meaning', 'NN'), ('of', 'IN'), ('each', 'DT'), ('symbol', 'NN'), ('.', '.')]\n",
      "[('*****************************************************************************', 'JJ'), ('[', 'NNP'), ('t', 'NN'), (']', 'NNP'), ('excellent', 'NN'), ('phone', 'NN'), (',', ','), ('excellent', 'JJ'), ('service', 'NN'), ('.', '.')]\n",
      "[('#', '#'), ('#', '#'), ('i', 'NN'), ('am', 'VBP'), ('a', 'DT'), ('business', 'NN'), ('user', 'NN'), ('who', 'WP'), ('heavily', 'RB'), ('depend', 'VBP'), ('on', 'IN'), ('mobile', 'JJ'), ('service', 'NN'), ('.', '.')]\n",
      "[('phone', 'NN'), ('[', 'NN'), ('+3', 'NNP'), (']', 'NNP'), (',', ','), ('work', 'NN'), ('[', 'NNP'), ('+2', 'NNP'), (']', 'NNP'), ('#', '#'), ('#', '#'), ('there', 'EX'), ('is', 'VBZ'), ('much', 'JJ'), ('which', 'WDT'), ('has', 'VBZ'), ('been', 'VBN'), ('said', 'VBD'), ('in', 'IN'), ('other', 'JJ'), ('reviews', 'NNS'), ('about', 'IN'), ('the', 'DT'), ('features', 'NNS'), ('of', 'IN'), ('this', 'DT'), ('phone', 'NN'), (',', ','), ('it', 'PRP'), ('is', 'VBZ'), ('a', 'DT'), ('great', 'JJ'), ('phone', 'NN'), (',', ','), ('mine', 'NN'), ('worked', 'VBD'), ('without', 'IN'), ('any', 'DT'), ('problems', 'NNS'), ('right', 'VBD'), ('out', 'IN'), ('of', 'IN'), ('the', 'DT'), ('box', 'NN'), ('.', '.')]\n",
      "[('#', '#'), ('#', '#'), ('just', 'RB'), ('double', 'RB'), ('check', 'NN'), ('with', 'IN'), ('customer', 'NN'), ('service', 'NN'), ('to', 'TO'), ('ensure', 'VB'), ('the', 'DT'), ('number', 'NN'), ('provided', 'VBN'), ('by', 'IN'), ('amazon', 'NN'), ('is', 'VBZ'), ('for', 'IN'), ('the', 'DT'), ('city', 'NN'), ('/', 'NNP'), ('exchange', 'NN'), ('you', 'PRP'), ('wanted', 'VBD'), ('.', '.')]\n",
      "[('at', 'IN'), ('&', 'CC'), ('t', 'VB'), ('customer', 'NN'), ('service', 'NN'), ('[', 'NNP'), ('-2', 'NNP'), (']', 'NNP'), ('#', '#'), ('#', '#'), ('after', 'IN'), ('several', 'JJ'), ('years', 'NNS'), ('of', 'IN'), ('torture', 'NN'), ('in', 'IN'), ('the', 'DT'), ('hands', 'NNS'), ('of', 'IN'), ('at', 'IN'), ('&', 'CC'), ('t', 'VB'), ('customer', 'NN'), ('service', 'NN'), ('i', 'NN'), ('am', 'VBP'), ('delighted', 'VBN'), ('to', 'TO'), ('drop', 'VB'), ('them', 'PRP'), (',', ','), ('and', 'CC'), ('look', 'VB'), ('forward', 'RB'), ('to', 'TO'), ('august', 'VB'), ('2004', 'CD'), ('when', 'WRB'), ('i', 'NN'), ('will', 'MD'), ('convert', 'VB'), ('our', 'PRP$'), ('other', 'JJ'), ('3', 'CD'), ('family-phones', 'NNS'), ('from', 'IN'), ('at', 'IN'), ('&', 'CC'), ('t', 'VB'), ('to', 'TO'), ('t-mobile', 'JJ'), ('!', '.')]\n",
      "[('signal', 'JJ'), ('quality', 'NN'), ('[', 'NNP'), ('+3', 'NNP'), (']', 'NNP'), ('#', '#'), ('#', '#'), ('i', 'NN'), ('have', 'VBP'), ('had', 'VBN'), ('the', 'DT'), ('phone', 'NN'), ('for', 'IN'), ('1', 'CD'), ('week', 'NN'), (',', ','), ('the', 'DT'), ('signal', 'JJ'), ('quality', 'NN'), ('has', 'VBZ'), ('been', 'VBN'), ('great', 'JJ'), ('in', 'IN'), ('the', 'DT'), ('detroit', 'JJ'), ('area', 'NN'), ('(', '('), ('suburbs', 'NNS'), (')', ')'), ('and', 'CC'), ('in', 'IN'), ('my', 'PRP$'), ('recent', 'JJ'), ('road', 'NN'), ('trip', 'NN'), ('between', 'IN'), ('detroit', 'NNS'), ('and', 'CC'), ('northern', 'JJ'), ('kentucky', 'NNP'), ('(', '('), ('cincinnati', 'NN'), (')', ')'), ('i', 'NN'), ('experienced', 'VBD'), ('perfect', 'JJ'), ('signal', 'NN'), ('and', 'CC'), ('reception', 'NN'), ('along', 'IN'), ('i-75', 'NN'), (',', ','), ('far', 'RB'), ('superior', 'JJ'), ('to', 'TO'), ('at', 'IN'), ('&', 'CC'), ('#', '#'), ('38', 'CD'), (';', ':'), ('t', 'NN'), (\"'s\", 'POS'), ('which', 'WDT'), ('does', 'VBZ'), ('not', 'RB'), ('work', 'VB'), ('along', 'RB'), ('several', 'JJ'), ('long', 'JJ'), ('stretches', 'NNS'), ('on', 'IN'), ('that', 'DT'), ('same', 'JJ'), ('route', 'NN'), ('.', '.')]\n",
      "[('#', '#'), ('#', '#'), ('i', 'NNS'), ('have', 'VBP'), ('owned', 'VBN'), ('motorola', 'NNS'), (',', ','), ('panasonic', 'JJ'), ('and', 'CC'), ('nokia', 'JJ'), ('phones', 'NNS'), ('over', 'IN'), ('the', 'DT'), ('last', 'JJ'), ('8', 'CD'), ('years', 'NNS'), ('and', 'CC'), ('generally', 'RB'), ('prefer', 'VBP'), ('nokia', 'RB'), (',', ','), ('this', 'DT'), ('phone', 'NN'), ('combines', 'VBD'), ('many', 'JJ'), ('of', 'IN'), ('the', 'DT'), ('best', 'JJS'), ('nokia', 'NN'), ('features', 'NNS'), (',', ','), ('the', 'DT'), ('only', 'JJ'), ('feature', 'NN'), ('missing', 'VBG'), ('for', 'IN'), ('me', 'PRP'), ('is', 'VBZ'), ('the', 'DT'), ('voice', 'NN'), ('recognition', 'NN'), ('.', '.')]\n",
      "[('speaker', 'NN'), ('phone', 'NN'), ('[', 'NNP'), ('+2', 'NNP'), (']', 'NNP'), (',', ','), ('radio', 'NN'), ('[', 'NNP'), ('+2', 'NNP'), (']', 'NNP'), (',', ','), ('infrared', 'VBD'), ('[', 'NNP'), ('+2', 'NNP'), (']', 'NNP'), ('#', '#'), ('#', '#'), ('my', 'PRP$'), ('favorite', 'JJ'), ('features', 'NNS'), (',', ','), ('although', 'IN'), ('there', 'EX'), ('are', 'VBP'), ('many', 'JJ'), (',', ','), ('are', 'VBP'), ('the', 'DT'), ('speaker', 'NN'), ('phone', 'NN'), (',', ','), ('the', 'DT'), ('radio', 'NN'), ('and', 'CC'), ('the', 'DT'), ('infrared', 'JJ'), ('.', '.')]\n"
     ]
    }
   ],
   "source": [
    "for i in sentences[0:10]:\n",
    "    words = nltk.word_tokenize(i)\n",
    "    \n",
    "    tagged = nltk.pos_tag(words)\n",
    "    \n",
    "    print(tagged)"
   ]
  },
  {
   "cell_type": "markdown",
   "metadata": {},
   "source": [
    "## Stop words\n",
    "\n",
    "- These are the type of the words that affect our data analysis process, these are the words are redundant need to be removed or filtered"
   ]
  },
  {
   "cell_type": "code",
   "execution_count": null,
   "metadata": {},
   "outputs": [],
   "source": [
    "from nltk.corpus import stopwords"
   ]
  },
  {
   "cell_type": "code",
   "execution_count": null,
   "metadata": {},
   "outputs": [],
   "source": [
    "stop_words = set(stopwords.words(\"english\"))"
   ]
  },
  {
   "cell_type": "code",
   "execution_count": null,
   "metadata": {},
   "outputs": [
    {
     "name": "stdout",
     "output_type": "stream",
     "text": [
      "{'to', 'or', 'was', 've', \"shan't\", \"haven't\", \"isn't\", \"that'll\", 'more', 'having', 'such', 're', 'needn', 'couldn', \"you'd\", 'be', 'their', 'both', 'your', 'o', 'between', 'some', \"it's\", 'myself', 'once', 'own', 'with', 'by', 'no', 'did', 'an', 'not', \"won't\", 'his', 'this', 'under', \"aren't\", 'nor', 'as', 'again', 'mustn', 'too', 'during', \"hadn't\", 'we', 'are', 'what', 'each', 'shan', 'but', 'm', 'my', 'ours', 'these', 'below', \"needn't\", 'from', 'been', 'does', 'same', \"mustn't\", 'few', \"shouldn't\", 'for', \"couldn't\", \"weren't\", 'themselves', 'of', 'yourselves', 'itself', \"doesn't\", 'she', \"hasn't\", 'over', \"you've\", 'had', 'yourself', \"wasn't\", 'y', 'other', 'hadn', 'after', \"you're\", 'it', 'were', 'those', \"she's\", 'through', 'won', 'all', 'and', 'how', 'who', 'then', 'there', 'before', 'he', 'while', 's', 'll', 'himself', 'wasn', 'herself', \"you'll\", 'the', 'didn', 'at', 'ourselves', 'most', \"mightn't\", 'ma', 'weren', 'why', \"should've\", 'just', 'theirs', 'ain', 'only', 'will', 'against', 'into', 'above', 'should', 'can', 'hasn', 'where', 'any', 'out', 'doesn', 'our', 'd', 'is', 'which', 'further', 'has', 'yours', 'that', 'a', 't', 'up', 'down', \"didn't\", 'am', 'isn', 'do', 'being', 'when', 'whom', \"don't\", 'hers', 'them', 'off', 'aren', 'in', 'her', 'don', 'they', 'about', 'here', 'its', 'very', 'now', 'until', 'wouldn', 'because', 'doing', 'him', 'on', 'i', 'so', 'if', \"wouldn't\", 'mightn', 'than', 'you', 'haven', 'shouldn', 'me', 'have'}\n"
     ]
    }
   ],
   "source": [
    "print(stop_words)\n",
    "\n",
    "filtered_sent = []"
   ]
  },
  {
   "cell_type": "code",
   "execution_count": null,
   "metadata": {},
   "outputs": [],
   "source": [
    "for w in words[0:80]:\n",
    "    if w not in stop_words:\n",
    "        filtered_sent.append(w)\n",
    "        "
   ]
  },
  {
   "cell_type": "code",
   "execution_count": null,
   "metadata": {},
   "outputs": [
    {
     "name": "stdout",
     "output_type": "stream",
     "text": [
      "['speaker', 'phone', '[', '+2', ']', ',', 'radio', '[', '+2', ']', ',', 'infrared', '[', '+2', ']', '#', '#', 'favorite', 'features', ',', 'although', 'many', ',', 'speaker', 'phone', ',', 'radio', 'infrared', '.']\n"
     ]
    }
   ],
   "source": [
    "print(filtered_sent)"
   ]
  },
  {
   "cell_type": "markdown",
   "metadata": {},
   "source": [
    "## Chunking"
   ]
  },
  {
   "cell_type": "code",
   "execution_count": null,
   "metadata": {},
   "outputs": [],
   "source": [
    "for i in sentences[0:20]:\n",
    "    \n",
    "    words = word_tokenize(i)\n",
    "    tagged = nltk.pos_tag(words)\n",
    "    \n",
    "    chunkGram = r\"\"\"Chunk: {<RB.?>*<VB.?>*<NNP>+<NN>?} \"\"\"\n",
    "    chunkParser = nltk.RegexpParser(chunkGram)\n",
    "    \n",
    "    chunked = chunkParser.parse(tagged)\n",
    "    \n",
    "    chunked.draw()"
   ]
  },
  {
   "cell_type": "markdown",
   "metadata": {},
   "source": [
    "## Wordnet Synonyms"
   ]
  },
  {
   "cell_type": "code",
   "execution_count": null,
   "metadata": {},
   "outputs": [],
   "source": [
    "from nltk.corpus import wordnet"
   ]
  },
  {
   "cell_type": "code",
   "execution_count": null,
   "metadata": {},
   "outputs": [],
   "source": [
    "synsets = wordnet.synsets(\"dog\")\n",
    "print(synsets)"
   ]
  },
  {
   "cell_type": "code",
   "execution_count": null,
   "metadata": {},
   "outputs": [],
   "source": [
    "print(synsets[0].lemmas())"
   ]
  },
  {
   "cell_type": "code",
   "execution_count": null,
   "metadata": {},
   "outputs": [],
   "source": [
    "print(synsets[0].definition())"
   ]
  },
  {
   "cell_type": "code",
   "execution_count": null,
   "metadata": {},
   "outputs": [],
   "source": [
    "print(synsets[0].examples())"
   ]
  }
 ],
 "metadata": {
  "kernelspec": {
   "display_name": "Python 3",
   "language": "python",
   "name": "python3"
  },
  "language_info": {
   "codemirror_mode": {
    "name": "ipython",
    "version": 3
   },
   "file_extension": ".py",
   "mimetype": "text/x-python",
   "name": "python",
   "nbconvert_exporter": "python",
   "pygments_lexer": "ipython3",
   "version": "3.7.3"
  }
 },
 "nbformat": 4,
 "nbformat_minor": 2
}
